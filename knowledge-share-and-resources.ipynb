{
 "cells": [
  {
   "cell_type": "markdown",
   "metadata": {},
   "source": [
    "# Theory \n",
    "\n",
    "### What is a convolution?\n",
    "\n",
    "Convolution is a mathematical operation on two functions (f and g) to produce a third function that expresses how the shape of one is modified by the other. \n",
    "\n",
    "### What is a neural network?\n",
    "\n",
    "A **biological neural network**: neurons interconnected by synapses to carry out a specific function when activated. Neural circuits interconnect to one another to form large scale brain networks.\n",
    "\n",
    "Or an **artificial neural network**, for solving artificial intelligence (AI) problems; an interconnected group of artificial neurons that uses a mathematical or computational model for information processing based on a connectionistic approach to computation. \n",
    "\n",
    "In more practical terms artificial neural networks are non-linear statistical data modeling or decision making tools. They can be used to model complex relationships between inputs and outputs or to find patterns in data.\n",
    "\n",
    "### What is an image kernel?\n",
    "\n",
    "An image kernel is a small matrix. Check out this useful [interactive visualisation.](http://setosa.io/ev/image-kernels/)\n",
    "\n",
    "### What is a learning rate?\n",
    "\n",
    "Basic concept of LR = how quickly we will zoom onto the solution; how quickly or how slowly you want to update the weights or parameters.\n",
    "\n",
    "### What are matrix multiplications?\n",
    "\n",
    "[See this animation](http://matrixmultiplication.xyz/)\n",
    "\n",
    "### What is gradient descent?\n",
    "\n",
    "Look at a really cool project by [José Fernández Portal plotting the loss function and the path followed by SGD](https://nbviewer.jupyter.org/gist/joshfp/85d96f07aaa5f4d2c9eb47956ccdcc88/lesson2-sgd-in-action.ipynb), notebook added to [datalass1 GitHub for reference](https://github.com/datalass1/fastai/blob/master/dl1/amazing-nbs/lesson2-sgd-in-action.ipynb)\n",
    "\n",
    "### What is a tensor?\n",
    "\n",
    "Tensors are similar to NumPy’s ndarrays, with the addition being that Tensors can also be used on a GPU to accelerate computing.\n"
   ]
  },
  {
   "cell_type": "markdown",
   "metadata": {},
   "source": [
    "# PyTorch\n",
    "[pytoch library](https://pytorch.org/) \n",
    "\n",
    "1. [CUDA](https://developer.nvidia.com/cuda-zone) - If OS has an Nvidia GPU made in the last 10 years (8000 series of higher ) , then it supports CUDA.\n",
    "2. [Getting started with Pytorch Guide for local machine](https://pytorch.org/get-started/locally/). If no CUDA present on local machine use:\n",
    "```\n",
    "$ conda install pytorch-cpu torchvision-cpu -c pytorch\n",
    "```\n",
    "\n",
    "3. Or on the cloud with [cloud partners](https://pytorch.org/get-started/cloud-partners/) using pytorch/CUDA images."
   ]
  },
  {
   "cell_type": "markdown",
   "metadata": {},
   "source": [
    "# Cool Resources:\n",
    "- [Deep Visualisation toolbox](https://www.youtube.com/watch?v=AgkfIQ4IGaM) on youtube time: 3:53mins. \n",
    "- [MINST dataset visualisation](https://youtu.be/Oqm9vsf_hvU?t=260) on youtube by \n",
    "otavio good\n",
    "- [Cyclical Learning Rates for Training Neural Networks by Leslie N. Smith]( https://arxiv.org/pdf/1506.01186.pdf)\n",
    "- [Zeilers paper](https://arxiv.org/pdf/1311.2901.pdf) on Visualizing and Understanding Convolutional Networks.\n",
    "- [Deep Learning Book](https://www.deeplearningbook.org/)"
   ]
  },
  {
   "cell_type": "markdown",
   "metadata": {},
   "source": [
    "# Tricks\n",
    "- monitor GPU usage: ```$ watch -n 1 nvidia-smi```"
   ]
  },
  {
   "cell_type": "code",
   "execution_count": null,
   "metadata": {},
   "outputs": [],
   "source": []
  }
 ],
 "metadata": {
  "kernelspec": {
   "display_name": "Python 3",
   "language": "python",
   "name": "python3"
  },
  "language_info": {
   "codemirror_mode": {
    "name": "ipython",
    "version": 3
   },
   "file_extension": ".py",
   "mimetype": "text/x-python",
   "name": "python",
   "nbconvert_exporter": "python",
   "pygments_lexer": "ipython3",
   "version": "3.7.2"
  }
 },
 "nbformat": 4,
 "nbformat_minor": 2
}
