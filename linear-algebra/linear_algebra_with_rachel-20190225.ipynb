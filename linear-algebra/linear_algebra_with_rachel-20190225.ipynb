{
 "cells": [
  {
   "cell_type": "markdown",
   "metadata": {},
   "source": [
    "# Computational Linear Algebra 1: Matrix Math, Accuracy, Memory, Speed, & Parallelization\n",
    "with Rachel Thomas \n",
    "\n",
    "[YouTube video](https://www.youtube.com/watch?v=8iGzBMboA0I&list=PLtmWHNX-gukIc92m1K0P6bIOnZb-mg0hY&index=2&t=0s)\n",
    "\n",
    "## Matrix-Vector Products example\n",
    "Matrix multiplication with aids/hiv health numbers. This is a markov chain:\n",
    "\n",
    "0. 85% asymptomatic \n",
    "1. 10% symptomatic\n",
    "2. 5% AIDs\n",
    "3. 0% death\n",
    "\n",
    "Within 1 year what will be the % in each health state?\n",
    "\n",
    "The stochastic matrix, a matrix of probabilties:\n",
    "\n",
    "|0 |1 |2 |3|\n",
    "|-----|-----|-----|----|\n",
    "|0.90 |0.07 |0.02 |0.01|\n",
    "|0 |0.93 |0.05 |0.02 |\n",
    "|0 |0 |0.85 |0.15 |\n",
    "|0 |0 |0 |1.00|\n",
    "\n",
    "Each row sums to 1 since they are proabilities. The row gives you the state you are starting in and each column is the destination state you are moving to. "
   ]
  },
  {
   "cell_type": "code",
   "execution_count": 1,
   "metadata": {},
   "outputs": [],
   "source": [
    "import numpy as np"
   ]
  },
  {
   "cell_type": "code",
   "execution_count": 10,
   "metadata": {},
   "outputs": [
    {
     "data": {
      "text/plain": [
       "array([[0.765 ],\n",
       "       [0.1525],\n",
       "       [0.0645],\n",
       "       [0.018 ]])"
      ]
     },
     "execution_count": 10,
     "metadata": {},
     "output_type": "execute_result"
    }
   ],
   "source": [
    "A = np.array([[.9, .07, .02, .01],\n",
    "             [0, .93, .05, .02],\n",
    "             [0, 0, .85, .15],\n",
    "             [0, 0, 0, 1.00]])\n",
    "\n",
    "x = np.array([[.85, .10, .05, 0]])\n",
    "\n",
    "A.T @ x.T"
   ]
  },
  {
   "cell_type": "code",
   "execution_count": 17,
   "metadata": {},
   "outputs": [
    {
     "name": "stdout",
     "output_type": "stream",
     "text": [
      "[[0.9  0.   0.   0.  ]\n",
      " [0.07 0.93 0.   0.  ]\n",
      " [0.02 0.05 0.85 0.  ]\n",
      " [0.01 0.02 0.15 1.  ]] \n",
      "\n",
      " [[0.85]\n",
      " [0.1 ]\n",
      " [0.05]\n",
      " [0.  ]]\n"
     ]
    }
   ],
   "source": [
    "print(A.T,'\\n\\n', x.T)"
   ]
  },
  {
   "cell_type": "markdown",
   "metadata": {},
   "source": [
    "## Matrix-Matrix Product example\n",
    "Person 1, 2 and 3 all shopping. Where is the best shop to pay as little as possible?\n",
    "\n",
    "| n| roll| bun| cake| bread|\n",
    "|-:|----:|---:|----:|-----:|\n",
    "|p1|    6|   5|    3|     1|\n",
    "|p2|    3|   6|    2|     2|\n",
    "|p3|    3|   4|    3|     1|\n",
    "\n",
    "| n| s1| s2|\n",
    "|--|---|---|\n",
    "|roll|1.50|1.00|\n",
    "|bun|2.00|2.50|\n",
    "|cake|5.00|4.50|\n",
    "|bread|16.00|17.00|"
   ]
  },
  {
   "cell_type": "code",
   "execution_count": 22,
   "metadata": {},
   "outputs": [
    {
     "data": {
      "text/plain": [
       "array([[50. , 49. ],\n",
       "       [58.5, 61. ],\n",
       "       [43.5, 43.5]])"
      ]
     },
     "execution_count": 22,
     "metadata": {},
     "output_type": "execute_result"
    }
   ],
   "source": [
    "A = np.array([[6., 5., 3., 1.],\n",
    "             [3., 6., 2., 2.],\n",
    "             [3., 4., 3., 1.]])\n",
    "\n",
    "B = np.array([[1.5, 1.],\n",
    "              [2., 2.5],\n",
    "              [5., 4.5],\n",
    "              [16., 17.]])\n",
    "\n",
    "A @ B"
   ]
  },
  {
   "cell_type": "markdown",
   "metadata": {},
   "source": [
    "## Convolution with MNIST dataset using scipy libraries\n",
    "Different edge detection filters\n",
    "\n",
    "## Matrix Decompositions\n",
    "- Topic modelling with NMF and SVD treating text as a bag of words. Words are the rows, documents are the columns\n",
    "- Background removal with robust PCA and truncated SVD. \n",
    "- PageRank algorithm with Eigen vector"
   ]
  },
  {
   "cell_type": "markdown",
   "metadata": {},
   "source": [
    "## Accuracy\n",
    "### Floating Point Arithmetic.\n",
    "\n",
    "Computers are finite and discrete. "
   ]
  },
  {
   "cell_type": "code",
   "execution_count": 26,
   "metadata": {},
   "outputs": [],
   "source": [
    "# This is a cycle\n",
    "def f(x):\n",
    "    if x <= 1/2:\n",
    "        return 2*x\n",
    "    if x > 1/2:\n",
    "        return 2*x - 1\n",
    "\n",
    "x = 1/10\n",
    "# for i in range(80):\n",
    "#     print(x)\n",
    "#     x = f(x)"
   ]
  },
  {
   "cell_type": "markdown",
   "metadata": {},
   "source": [
    "How computers store numbers, it's important, hence why IEEE was set up. Floats and doubles are not equidistant [What you never wanted to know about floating point but will be forced to find out](https://www.volkerschatz.com/science/float.html)\n",
    "\n",
    "Machine epsilon: half the distace between 1 and the next larger number. This can vary by computer.\n",
    "\n",
    "There is some really interesting history of floating points, when floats are firstly recorded by Babylonians, the selection by IEEE as the computer scientist community converged to agree on floating points, and the implementation over the 20th century. "
   ]
  },
  {
   "cell_type": "markdown",
   "metadata": {},
   "source": [
    "### Conditioning and Stability\n",
    "\"A stable algorithm gives nearly the right answer to nearly the right question\" --Trefethen\n",
    "\n",
    "Example with Eigenvalues.\n",
    "\n",
    "### Approximation Accuracy\n",
    "Less accuracy, increase in speed. Not always a bad thing.\n",
    "\n",
    "Example with bloom filters. \n",
    "\n",
    "### Expensive Errors\n",
    "Ariane 5 rocket - ESA trying to fit a 64 bit number into a 16 bit space (integer overload). \n",
    "Intel Pentium Chips error - with only 5 digits of accuracy.\n",
    "\n",
    "## Memory Use\n",
    "### Sparse vs Dense\n",
    "Scipy gives you 3 different ways to store a sparse matrix, lots of zeros in a sparse matrix. \n",
    "\n",
    "### Speed\n",
    "- computational complexity\n",
    "- vectorisation: SIMD (single instruction, multiple data) - not important usually done at assembly. Numpy uses BLAS and LAPACK for low level matrix and arithmatic. \n",
    "- scaling to multiple cores and nodes\n",
    "- locality - Latency with [Jeff Dean](https://gist.github.com/hellerbarde/2843375)\n",
    "and this video about image processing and how to compute blue of a photo. \n",
    "\n",
    "Locality is really hard. Potential trade-offs:\n",
    "- redundant computation to save memory bandwidth\n",
    "- sacrificing parallelism to get better reuse"
   ]
  },
  {
   "cell_type": "code",
   "execution_count": 5,
   "metadata": {},
   "outputs": [
    {
     "data": {
      "image/jpeg": "[encoded data removed]",
      "text/html": [
       "\n",
       "        <iframe\n",
       "            width=\"400\"\n",
       "            height=\"300\"\n",
       "            src=\"https://www.youtube.com/embed/3uiEyEKji0M\"\n",
       "            frameborder=\"0\"\n",
       "            allowfullscreen\n",
       "        ></iframe>\n",
       "        "
      ],
      "text/plain": [
       "<IPython.lib.display.YouTubeVideo at 0x7fa4d00ee240>"
      ]
     },
     "execution_count": 5,
     "metadata": {},
     "output_type": "execute_result"
    }
   ],
   "source": [
    "from IPython.display import YouTubeVideo\n",
    "YouTubeVideo(\"3uiEyEKji0M\")\n",
    "# watch minutes 1-13"
   ]
  },
  {
   "cell_type": "markdown",
   "metadata": {},
   "source": [
    "### Temporaries\n",
    "Numpy create temporaries for every calculation done. \n",
    "\n",
    "## Scalability and Parallelisation\n",
    "Multiple cores or nodes"
   ]
  },
  {
   "cell_type": "code",
   "execution_count": null,
   "metadata": {},
   "outputs": [],
   "source": []
  }
 ],
 "metadata": {
  "kernelspec": {
   "display_name": "Python 3",
   "language": "python",
   "name": "python3"
  },
  "language_info": {
   "codemirror_mode": {
    "name": "ipython",
    "version": 3
   },
   "file_extension": ".py",
   "mimetype": "text/x-python",
   "name": "python",
   "nbconvert_exporter": "python",
   "pygments_lexer": "ipython3",
   "version": "3.7.1"
  }
 },
 "nbformat": 4,
 "nbformat_minor": 2
}
